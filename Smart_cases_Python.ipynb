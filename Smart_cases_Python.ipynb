{
 "cells": [
  {
   "cell_type": "code",
   "execution_count": 3,
   "metadata": {
    "scrolled": true
   },
   "outputs": [
    {
     "name": "stdout",
     "output_type": "stream",
     "text": [
      "0\n",
      "1\n",
      "2\n",
      "3\n",
      "4\n",
      "5\n",
      "6\n",
      "7\n",
      "8\n",
      "9\n",
      "10\n"
     ]
    }
   ],
   "source": [
    "i = range(10)\n",
    "for i in range(10):\n",
    "    print (i)\n",
    "    i+=1\n",
    "print(i)"
   ]
  },
  {
   "cell_type": "code",
   "execution_count": 8,
   "metadata": {},
   "outputs": [
    {
     "data": {
      "text/plain": [
       "[1,\n",
       " 2,\n",
       " 4,\n",
       " 7,\n",
       " 8,\n",
       " 11,\n",
       " 13,\n",
       " 14,\n",
       " 16,\n",
       " 17,\n",
       " 22,\n",
       " 23,\n",
       " 26,\n",
       " 29,\n",
       " 31,\n",
       " 32,\n",
       " 34,\n",
       " 38,\n",
       " 41,\n",
       " 43,\n",
       " 44,\n",
       " 47,\n",
       " 49,\n",
       " 52,\n",
       " 53,\n",
       " 56,\n",
       " 58,\n",
       " 59,\n",
       " 61,\n",
       " 62,\n",
       " 67,\n",
       " 68,\n",
       " 71,\n",
       " 74,\n",
       " 76,\n",
       " 77,\n",
       " 79,\n",
       " 83,\n",
       " 86,\n",
       " 88,\n",
       " 89,\n",
       " 92,\n",
       " 94,\n",
       " 97,\n",
       " 98]"
      ]
     },
     "execution_count": 8,
     "metadata": {},
     "output_type": "execute_result"
    }
   ],
   "source": [
    "def summary(N):\n",
    "    summ = 0   \n",
    "    while N > 0:           \n",
    "        d = N%10           \n",
    "        N = N // 10           \n",
    "        summ += d   \n",
    "    return summ\n",
    "def fun(n):\n",
    "    i = 0\n",
    "    f=[]\n",
    "    while i < n:\n",
    "        if i%3!=0 and i%5!=0 and summary(i)!=10:\n",
    "            f.append(i)\n",
    "            #print(i)\n",
    "        i+=1\n",
    "        \n",
    "    return f \n",
    "    \n",
    "fun(100)"
   ]
  },
  {
   "cell_type": "code",
   "execution_count": 68,
   "metadata": {},
   "outputs": [],
   "source": [
    "def func(N):\n",
    "    summ = 0   \n",
    "    while N > 0:           \n",
    "        d = N%10           \n",
    "        N = N // 10           \n",
    "        summ += d   \n",
    "    return summ\n"
   ]
  },
  {
   "cell_type": "code",
   "execution_count": 69,
   "metadata": {},
   "outputs": [
    {
     "data": {
      "text/plain": [
       "30"
      ]
     },
     "execution_count": 69,
     "metadata": {},
     "output_type": "execute_result"
    }
   ],
   "source": [
    "func(555555)"
   ]
  },
  {
   "cell_type": "code",
   "execution_count": 4,
   "metadata": {},
   "outputs": [
    {
     "name": "stdout",
     "output_type": "stream",
     "text": [
      "[1, 3, 4, 5, 6, 7, 8]\n"
     ]
    }
   ],
   "source": [
    "a = [3,1,5,7,8,6,4]\n",
    "for i in range(len(a)-1):\n",
    "    for j in range(len(a)-i-1):\n",
    "        if a[j] > a[j+1]:\n",
    "            a[j], a[j+1] = a[j+1], a[j]\n",
    "print(a)"
   ]
  },
  {
   "cell_type": "code",
   "execution_count": 11,
   "metadata": {},
   "outputs": [
    {
     "name": "stdout",
     "output_type": "stream",
     "text": [
      "120\n"
     ]
    }
   ],
   "source": [
    "def fac(n):\n",
    "    if n == 0:\n",
    "        return 1\n",
    "    return fac(n-1) * n\n",
    " \n",
    "print(fac(5))"
   ]
  },
  {
   "cell_type": "code",
   "execution_count": 20,
   "metadata": {},
   "outputs": [
    {
     "name": "stdout",
     "output_type": "stream",
     "text": [
      "55\n"
     ]
    }
   ],
   "source": [
    "def feb(n):\n",
    "    if n in(1,2):\n",
    "        return 1\n",
    "    return feb(n-1) + feb(n-2)\n",
    " \n",
    "print(feb(10))"
   ]
  },
  {
   "cell_type": "code",
   "execution_count": 22,
   "metadata": {},
   "outputs": [
    {
     "name": "stdout",
     "output_type": "stream",
     "text": [
      "1 1 2 3 5 8 13 21 34 55 \n"
     ]
    }
   ],
   "source": [
    "fib1 = fib2 = 1\n",
    " \n",
    "n = 10\n",
    " \n",
    "if n < 2:\n",
    "    quit()\n",
    "print(fib1, end=' ')\n",
    "print(fib2, end=' ')\n",
    "for i in range(2, n):\n",
    "    fib1, fib2 = fib2, fib1 + fib2\n",
    "    print(fib2, end=' ')\n",
    "print()"
   ]
  },
  {
   "cell_type": "code",
   "execution_count": null,
   "metadata": {},
   "outputs": [],
   "source": [
    "n = int(input())\n",
    " \n",
    "b = ''\n",
    " \n",
    "while n > 0:\n",
    "    b = str(n % 2) + b\n",
    "    n = n // 2\n",
    "print(b)"
   ]
  },
  {
   "cell_type": "code",
   "execution_count": 32,
   "metadata": {},
   "outputs": [
    {
     "name": "stdout",
     "output_type": "stream",
     "text": [
      "35\n"
     ]
    }
   ],
   "source": [
    "a = 35\n",
    "b = 175\n",
    "while b != 0:\n",
    "    a, b = b, a % b\n",
    "print(a)"
   ]
  },
  {
   "cell_type": "code",
   "execution_count": 35,
   "metadata": {},
   "outputs": [
    {
     "name": "stdout",
     "output_type": "stream",
     "text": [
      "[7, 23, 24, 24, 25, 25, 28, 31, 34, 37, 40, 42, 43, 46, 47]\n",
      "43\n",
      "ID = 12\n"
     ]
    }
   ],
   "source": [
    "from random import randint\n",
    " \n",
    "# Создание списка,\n",
    "# его сортировка по возрастанию\n",
    "# и вывод на экран\n",
    "a = []\n",
    "for i in range(15):\n",
    "    a.append(randint(1, 50))\n",
    "a.sort()\n",
    "print(a)\n",
    " \n",
    "# искомое число\n",
    "value = int(input())\n",
    " \n",
    "mid = len(a) // 2\n",
    "low = 0\n",
    "high = len(a) - 1\n",
    " \n",
    "while a[mid] != value and low <= high:\n",
    "    if value > a[mid]:\n",
    "        low = mid + 1\n",
    "    else:\n",
    "        high = mid - 1\n",
    "    mid = (low + high) // 2\n",
    "if low > high:\n",
    "    print(\"No value\")\n",
    "else:\n",
    "    print(\"ID =\", mid)"
   ]
  },
  {
   "cell_type": "code",
   "execution_count": 7,
   "metadata": {},
   "outputs": [
    {
     "name": "stdout",
     "output_type": "stream",
     "text": [
      "[]\n"
     ]
    }
   ],
   "source": [
    "import numpy as np\n",
    "\n",
    "def sigmoid(x):\n",
    "    x *= -1\n",
    "    return 1/1+np.exp(x)\n",
    "\n",
    "x = [i for i in range(10)]\n",
    "\n",
    "print(sigmoid(x))"
   ]
  },
  {
   "cell_type": "code",
   "execution_count": 16,
   "metadata": {},
   "outputs": [],
   "source": [
    "def sigmoid(x):\n",
    "    return 1 / (1 + np.exp(-x))\n",
    "\n",
    "def logit(y):\n",
    "    return np.log(y/(1-y))"
   ]
  },
  {
   "cell_type": "code",
   "execution_count": 18,
   "metadata": {},
   "outputs": [
    {
     "data": {
      "text/plain": [
       "array([0.   , 0.   , 0.001, 0.002, 0.007, 0.018, 0.047, 0.119, 0.269,\n",
       "       0.5  , 0.731, 0.881, 0.953, 0.982, 0.993, 0.998, 0.999, 1.   ,\n",
       "       1.   ])"
      ]
     },
     "execution_count": 18,
     "metadata": {},
     "output_type": "execute_result"
    }
   ],
   "source": [
    "x = [i for i in range(-9,10)]\n",
    "\n",
    "sigmoid_mapper = np.vectorize(sigmoid)\n",
    "y = sigmoid_mapper(x)\n",
    "np.around(y, 3)"
   ]
  },
  {
   "cell_type": "code",
   "execution_count": 10,
   "metadata": {},
   "outputs": [
    {
     "data": {
      "text/plain": [
       "array([-9., -8., -7., -6., -5., -4., -3., -2., -1.,  0.,  1.,  2.,  3.,\n",
       "        4.,  5.,  6.,  7.,  8.,  9.])"
      ]
     },
     "execution_count": 10,
     "metadata": {},
     "output_type": "execute_result"
    }
   ],
   "source": [
    "anti_sigmoid = np.vectorize(logit)\n",
    "np.around(anti_sigmoid(y),decimals=2)"
   ]
  },
  {
   "cell_type": "code",
   "execution_count": 105,
   "metadata": {},
   "outputs": [
    {
     "name": "stdout",
     "output_type": "stream",
     "text": [
      "[81, 64, 49, 36, 25, 16, 9, 4, 1, 0, 1, 4, 9, 16, 25, 36, 49, 64, 81]\n"
     ]
    }
   ],
   "source": [
    "def power(t):\n",
    "    return t**2\n",
    "p=[]\n",
    "for i in x:\n",
    "    pop=power(i)\n",
    "    p.append(pop)\n",
    "print(p)\n"
   ]
  },
  {
   "cell_type": "code",
   "execution_count": 1,
   "metadata": {},
   "outputs": [
    {
     "data": {
      "text/plain": [
       "[[1, 10], [2, 20], [3, 30]]"
      ]
     },
     "execution_count": 1,
     "metadata": {},
     "output_type": "execute_result"
    }
   ],
   "source": [
    "a = {1:10, 2:20, 3:30}\n",
    "b = [[i,a[i]] for i in a]\n",
    "b"
   ]
  },
  {
   "cell_type": "code",
   "execution_count": 2,
   "metadata": {},
   "outputs": [
    {
     "data": {
      "text/plain": [
       "[1, 10, 2, 20, 3, 30]"
      ]
     },
     "execution_count": 2,
     "metadata": {},
     "output_type": "execute_result"
    }
   ],
   "source": [
    "c = [j for i in b for j in i]\n",
    "c"
   ]
  },
  {
   "cell_type": "code",
   "execution_count": null,
   "metadata": {},
   "outputs": [],
   "source": []
  }
 ],
 "metadata": {
  "kernelspec": {
   "display_name": "Python 3",
   "language": "python",
   "name": "python3"
  },
  "language_info": {
   "codemirror_mode": {
    "name": "ipython",
    "version": 3
   },
   "file_extension": ".py",
   "mimetype": "text/x-python",
   "name": "python",
   "nbconvert_exporter": "python",
   "pygments_lexer": "ipython3",
   "version": "3.6.7"
  }
 },
 "nbformat": 4,
 "nbformat_minor": 2
}
