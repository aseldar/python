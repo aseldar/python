{
 "cells": [
  {
   "cell_type": "code",
   "execution_count": null,
   "metadata": {},
   "outputs": [],
   "source": [
    "dcd8ec17ffb16d258739f052fcd012b7"
   ]
  },
  {
   "cell_type": "code",
   "execution_count": 15,
   "metadata": {},
   "outputs": [
    {
     "name": "stdout",
     "output_type": "stream",
     "text": [
      "city: ['Moscow (RU)', 'Moscow (US)', 'Moscow (US)', 'Moscow (RU)']\n",
      "city_id= 524901\n"
     ]
    }
   ],
   "source": [
    "import requests\n",
    "s_city =  'Moscow'\n",
    "city_id = 0\n",
    "appid = \"dcd8ec17ffb16d258739f052fcd012b7\"\n",
    "try:\n",
    "    res = requests.get(\"http://api.openweathermap.org/data/2.5/find\",\n",
    "                 params={'q': s_city, 'type': 'like', 'units': 'metric', 'APPID': appid})\n",
    "    data = res.json()\n",
    "    cities = [\"{} ({})\".format(d['name'], d['sys']['country'])\n",
    "              for d in data['list']]\n",
    "    print(\"city:\", cities)\n",
    "    city_id = data['list'][0]['id']\n",
    "    print('city_id=', city_id)\n",
    "except Exception as e:\n",
    "    print(\"Exception (find):\", e)\n",
    "    pass"
   ]
  },
  {
   "cell_type": "code",
   "execution_count": 16,
   "metadata": {},
   "outputs": [
    {
     "name": "stdout",
     "output_type": "stream",
     "text": [
      "conditions: облачно с прояснениями\n",
      "temp: 9.41\n",
      "temp_min: 8\n",
      "temp_max: 10.56\n"
     ]
    }
   ],
   "source": [
    "try:\n",
    "    res = requests.get(\"http://api.openweathermap.org/data/2.5/weather\",\n",
    "                 params={'id': city_id, 'units': 'metric', 'lang': 'ru', 'APPID': appid})\n",
    "    data = res.json()\n",
    "    print(\"conditions:\", data['weather'][0]['description'])\n",
    "    print(\"temp:\", data['main']['temp'])\n",
    "    print(\"temp_min:\", data['main']['temp_min'])\n",
    "    print(\"temp_max:\", data['main']['temp_max'])\n",
    "except Exception as e:\n",
    "    print(\"Exception (weather):\", e)\n",
    "    pass"
   ]
  },
  {
   "cell_type": "code",
   "execution_count": 18,
   "metadata": {},
   "outputs": [
    {
     "name": "stdout",
     "output_type": "stream",
     "text": [
      "conditions: облачно с прояснениями\n",
      "temp: 10\n",
      "temp_min: 10\n",
      "temp_max: 10\n"
     ]
    }
   ],
   "source": [
    "try:\n",
    "    res = requests.get(\"http://api.openweathermap.org/data/2.5/weather\",\n",
    "                 params={'id': city_id, 'units': 'metric', 'lang': 'ru', 'APPID': appid})\n",
    "    data = res.json()\n",
    "    print(\"conditions:\", data['weather'][0]['description'])\n",
    "    print(\"temp:\", data['main']['temp'])\n",
    "    print(\"temp_min:\", data['main']['temp_min'])\n",
    "    print(\"temp_max:\", data['main']['temp_max'])\n",
    "except Exception as e:\n",
    "    print(\"Exception (weather):\", e)\n",
    "    pass"
   ]
  },
  {
   "cell_type": "code",
   "execution_count": 17,
   "metadata": {},
   "outputs": [
    {
     "name": "stdout",
     "output_type": "stream",
     "text": [
      "2020-04-28 12:00:00 +10 облачно с прояснениями\n",
      "2020-04-28 15:00:00 +10 облачно с прояснениями\n",
      "2020-04-28 18:00:00  +8 облачно с прояснениями\n",
      "2020-04-28 21:00:00  +6 небольшой дождь\n",
      "2020-04-29 00:00:00  +6 небольшой дождь\n",
      "2020-04-29 03:00:00  +8 дождь\n",
      "2020-04-29 06:00:00 +10 небольшой дождь\n",
      "2020-04-29 09:00:00 +13 небольшой дождь\n",
      "2020-04-29 12:00:00 +11 переменная облачность\n",
      "2020-04-29 15:00:00  +9 пасмурно\n",
      "2020-04-29 18:00:00  +8 пасмурно\n",
      "2020-04-29 21:00:00  +6 пасмурно\n",
      "2020-04-30 00:00:00  +4 облачно с прояснениями\n",
      "2020-04-30 03:00:00  +3 облачно с прояснениями\n",
      "2020-04-30 06:00:00  +5 облачно с прояснениями\n",
      "2020-04-30 09:00:00  +8 пасмурно\n",
      "2020-04-30 12:00:00  +9 пасмурно\n",
      "2020-04-30 15:00:00  +9 пасмурно\n",
      "2020-04-30 18:00:00  +7 пасмурно\n",
      "2020-04-30 21:00:00  +6 пасмурно\n",
      "2020-05-01 00:00:00  +4 пасмурно\n",
      "2020-05-01 03:00:00  +4 облачно с прояснениями\n",
      "2020-05-01 06:00:00  +8 переменная облачность\n",
      "2020-05-01 09:00:00 +11 переменная облачность\n",
      "2020-05-01 12:00:00 +13 облачно с прояснениями\n",
      "2020-05-01 15:00:00 +12 переменная облачность\n",
      "2020-05-01 18:00:00  +9 переменная облачность\n",
      "2020-05-01 21:00:00  +8 облачно с прояснениями\n",
      "2020-05-02 00:00:00  +6 переменная облачность\n",
      "2020-05-02 03:00:00  +6 пасмурно\n",
      "2020-05-02 06:00:00  +6 небольшой дождь\n",
      "2020-05-02 09:00:00  +8 пасмурно\n",
      "2020-05-02 12:00:00 +10 пасмурно\n",
      "2020-05-02 15:00:00 +10 пасмурно\n",
      "2020-05-02 18:00:00 +10 пасмурно\n",
      "2020-05-02 21:00:00 +10 пасмурно\n",
      "2020-05-03 00:00:00  +9 пасмурно\n",
      "2020-05-03 03:00:00  +9 пасмурно\n",
      "2020-05-03 06:00:00 +12 пасмурно\n",
      "2020-05-03 09:00:00 +17 пасмурно\n"
     ]
    }
   ],
   "source": [
    "try:\n",
    "    res = requests.get(\"http://api.openweathermap.org/data/2.5/forecast\",\n",
    "                       params={'id': city_id, 'units': 'metric', 'lang': 'ru', 'APPID': appid})\n",
    "    data = res.json()\n",
    "    for i in data['list']:\n",
    "        print( i['dt_txt'], '{0:+3.0f}'.format(i['main']['temp']), i['weather'][0]['description'] )\n",
    "except Exception as e:\n",
    "    print(\"Exception (forecast):\", e)\n",
    "    pass"
   ]
  },
  {
   "cell_type": "code",
   "execution_count": null,
   "metadata": {},
   "outputs": [],
   "source": []
  },
  {
   "cell_type": "code",
   "execution_count": null,
   "metadata": {},
   "outputs": [],
   "source": [
    "api.openweathermap.org/data/2.5/weather?lat={55.845588}&lon={37.186967}&appid={'dcd8ec17ffb16d258739f052fcd012b7'}"
   ]
  },
  {
   "cell_type": "code",
   "execution_count": 12,
   "metadata": {},
   "outputs": [
    {
     "data": {
      "text/plain": [
       "<Response [401]>"
      ]
     },
     "execution_count": 12,
     "metadata": {},
     "output_type": "execute_result"
    }
   ],
   "source": [
    "requests.get(\"https://api.openweathermap.org/data/2.5/weather?lat={55.845588}&lon={37.186967}&appid={appid}\")"
   ]
  },
  {
   "cell_type": "code",
   "execution_count": null,
   "metadata": {},
   "outputs": [],
   "source": []
  },
  {
   "cell_type": "code",
   "execution_count": null,
   "metadata": {},
   "outputs": [],
   "source": []
  }
 ],
 "metadata": {
  "kernelspec": {
   "display_name": "Python 3",
   "language": "python",
   "name": "python3"
  },
  "language_info": {
   "codemirror_mode": {
    "name": "ipython",
    "version": 3
   },
   "file_extension": ".py",
   "mimetype": "text/x-python",
   "name": "python",
   "nbconvert_exporter": "python",
   "pygments_lexer": "ipython3",
   "version": "3.7.6"
  }
 },
 "nbformat": 4,
 "nbformat_minor": 4
}
